{
 "cells": [
  {
   "cell_type": "code",
   "execution_count": 2,
   "id": "a2a40013",
   "metadata": {},
   "outputs": [],
   "source": [
    "import os\n",
    "import matplotlib.pyplot as plt\n",
    "import numpy as np\n",
    "import matplotlib\n",
    "\n",
    "matplotlib.rcParams.update({'font.size': 12})\n",
    "from diffpy.pdfgetx.version import __version__\n",
    "\n",
    "# some convenience imports\n",
    "from diffpy.pdfgetx.pdfconfig import PDFConfig, loadPDFConfig\n",
    "from diffpy.pdfgetx.pdfgetter import PDFGetter\n",
    "from diffpy.pdfgetx.transformation import Transformation\n",
    "from diffpy.pdfgetx.functs import loaddata, findfiles\n",
    "\n",
    "# TODO - replace with  `loadData = loaddata` for version 3.0\n",
    "from diffpy.pdfgetx.functs import loadData"
   ]
  },
  {
   "cell_type": "code",
   "execution_count": 21,
   "id": "98176c15",
   "metadata": {},
   "outputs": [],
   "source": [
    "\n",
    "file = 'LaB6_0p4mm_011_av10_monitor.xye'\n",
    "bkgfile = '0p4mm_capillary_018_av17_monitor.xye'\n",
    "\n",
    "q,i = np.loadtxt(file,unpack = True,usecols = (0,1))\n"
   ]
  },
  {
   "cell_type": "code",
   "execution_count": 4,
   "id": "eed3d198",
   "metadata": {},
   "outputs": [
    {
     "name": "stdout",
     "output_type": "stream",
     "text": [
      "Help on class PDFConfig in module diffpy.pdfgetx.pdfconfig:\n",
      "\n",
      "class PDFConfig(builtins.object)\n",
      " |  PDFConfig(**kwargs)\n",
      " |  \n",
      " |  This class stores all configuration data needed for generating PDF.\n",
      " |  \n",
      " |  Configuration data processing:\n",
      " |  \n",
      " |  Inputs and Outputs:\n",
      " |  \n",
      " |  configfile   -- The last configuration file in a Windows .ini format\n",
      " |                  that was loaded.  ``None`` when no such file has\n",
      " |                  been read yet.\n",
      " |  configsection -- section of the `configfile` that was the last\n",
      " |                  loaded or ``None``.\n",
      " |  dataformat   -- format of input data files, by default 'twotheta'.\n",
      " |                  Supported formats:\n",
      " |                  'twotheta' - ASCII text file with 2 columns for\n",
      " |                      [twotheta, intensity]\n",
      " |                  'QA' - ASCII text file, the first column is Q in Angstroms\n",
      " |                  'Qnm' - ASCII text file, the first column is Q in nm\n",
      " |  inputfiles   -- powder diffraction data files to be processed\n",
      " |  inputfiles_find -- inputfiles resolved according to datapath.\n",
      " |                  A dynamic property.\n",
      " |  backgroundfile -- optional filename for background diffraction data.\n",
      " |  backgroundfile_find -- backgroundfile resolved according to datapath.\n",
      " |                  A dynamic property.\n",
      " |  formfactorfile -- filename of user-supplied form factor data.\n",
      " |                  required for ``sas`` mode.\n",
      " |  formfactorfile_find -- formfactorfile resolved according to datapath.\n",
      " |                  A dynamic property.\n",
      " |  datapath     -- list of additional directories to search for input files.\n",
      " |                  By default empty.  Not saved in configuration section.\n",
      " |  output       -- output file name.  Write to the standard output when \"-\".\n",
      " |                  Replace @f, @h, @r, @e, @t, @b, @o tokens as described\n",
      " |                  in the manual.\n",
      " |  outputtypes  -- list of output data types to be saved.  By default empty.\n",
      " |                  Possible items: 'iq', 'sq', 'fq', 'gr'.  No output when\n",
      " |                  empty, \"none\" or \"NONE\".\n",
      " |  force        -- flag for overwriting existing output files, bool or \"once\".\n",
      " |                  When \"once\" revert to `False` after a one-time overwrite.\n",
      " |                  By default False.  Can be also assigned boolean strings\n",
      " |                  \"yes\", \"true\", \"on\" or \"no\", \"false\", \"off\".\n",
      " |  plot         -- list of output data types to be plotted as processed.\n",
      " |                  By default empty.  Possible items: 'iq', 'sq', 'fq', 'gr'.\n",
      " |                  No plotting when empty, \"none\" or \"NONE\".\n",
      " |  interact     -- flag for entering IPython shell after processing.  Useful\n",
      " |                  for tuning the parameters and analysing the results.  The\n",
      " |                  IPython is also entered for an active `plot` option.\n",
      " |                  The default is `False`.\n",
      " |  verbose      -- string or integer level of output detail, possible values:\n",
      " |                  error, warning, info, debug, all, notset or an integer\n",
      " |                  from 0 to 5.\n",
      " |  \n",
      " |  PDF related data:\n",
      " |  \n",
      " |  mode         -- a string identifier of a PDF calculator setup or a comma\n",
      " |                  separated combination of several setup names.\n",
      " |  wavelength   -- x-ray wavelength in Angstroms.  Only effective for\n",
      " |                  the \"twotheta\" dataformat.\n",
      " |  twothetazero -- position of the zero angle in diffractometer degrees.\n",
      " |                  By default zero.  Only effective for the \"twotheta\"\n",
      " |                  dataformat.\n",
      " |  rpoly        -- distance corresponding to the maximum frequency in the\n",
      " |                  F(Q) smoothing polynomial.  The G values below rpoly\n",
      " |                  are unreliable.  By default 0.9.\n",
      " |  qmaxinst     -- instrument Q-cutoff for reliable input intensities (1/A).\n",
      " |                  By default 1000, in effect infinity.\n",
      " |  composition  -- a string chemical formula of the sample\n",
      " |  bgscale      -- scaling applied to the background data\n",
      " |  qmin         -- minimum Q limit used in Fourier transformation (1/A).\n",
      " |                  By default 0.\n",
      " |  qmax         -- maximum Q cutoff used in Fourier transformation (1/A)\n",
      " |  rmin         -- low limit of the r-grid in Angstroms, by default 0.\n",
      " |  rmax         -- high limit of the r-grid in Angstroms, by default 30.\n",
      " |  rstep        -- r-grid step size in Angstroms, by default 0.01.\n",
      " |  \n",
      " |  Methods defined here:\n",
      " |  \n",
      " |  __init__(self, **kwargs)\n",
      " |      Initialize a new PDFConfig object.\n",
      " |      \n",
      " |      Parameters\n",
      " |      ----------\n",
      " |      **kwargs\n",
      " |          The keyword arguments with initial configuration values,\n",
      " |          for example, ``qmax=20``.\n",
      " |      \n",
      " |      Raises\n",
      " |      ------\n",
      " |      ValueError\n",
      " |          For invalid keyword argument.\n",
      " |  \n",
      " |  __str__(self)\n",
      " |      String representation of this configuration.\n",
      " |  \n",
      " |  getAtomConcentrations(self)\n",
      " |      Return dictionary of element concentrations in the sample.\n",
      " |      The concentrations are evaluated by parsing the composition string.\n",
      " |      The elements can repeat in the composition string.\n",
      " |      \n",
      " |      Raise PDFConfigError if self.composition cannot be parsed.\n",
      " |  \n",
      " |  readConfig(self, filename=None, section=None, sitefiles=None)\n",
      " |      Read configuration from optional site files and from given file.\n",
      " |      \n",
      " |      Set `self.configfile` to the last processed configuration file;\n",
      " |      this is either the last file from `sitefiles` or the `filename`.\n",
      " |      Set `self.configsection` to the name of the last processed section.\n",
      " |      \n",
      " |      Parameters\n",
      " |      ----------\n",
      " |      filename : str, optional\n",
      " |          The custom configuration file to be loaded after `sitefiles`.\n",
      " |          When not specified, the `sitefiles` are still processed.\n",
      " |          When \"NONE\", nothing is loaded at all.\n",
      " |      section : str, optional\n",
      " |          The sub-section of the configuration file to be processed.\n",
      " |          Process the global parameters when not specified.\n",
      " |      sitefiles : list, optional\n",
      " |          The list of site configuration files to be loaded before\n",
      " |          `filename`.  Missing files are silently skipped.\n",
      " |          when not provided.\n",
      " |      \n",
      " |      No return value.\n",
      " |      \n",
      " |      Raises\n",
      " |      ------\n",
      " |      IOError\n",
      " |          When `filename` does not exists.\n",
      " |      PDFConfigError\n",
      " |          For invalid configuration format.\n",
      " |  \n",
      " |  resolveInputFile(self, filename)\n",
      " |      Return the first file found in the datapath directories.\n",
      " |      \n",
      " |      This returns filename unchanged if it exists.  If not search\n",
      " |      the datapath for the base part of the filename.  Finally, check\n",
      " |      the directory of a custom configuration file if it was used.\n",
      " |      If everything fails, just return the filename unchanged.\n",
      " |  \n",
      " |  update(self, **kwargs)\n",
      " |      Update configuration variables according to the keyword arguments.\n",
      " |      Raise ValueError if configuration attribute does not exist.\n",
      " |      No return value.\n",
      " |  \n",
      " |  writeConfigHeaderfp(self, fp, inputfile='', outputtype=None)\n",
      " |      Write configuration data to a file type object.\n",
      " |      \n",
      " |      fp           -- file type object to be written to.\n",
      " |      inputfile    -- optional inputfile name to be stored in the header.\n",
      " |      outputtype   -- optional override of outputtypes.\n",
      " |                      Useful for writing metadata of a single output file.\n",
      " |      \n",
      " |      No return value.\n",
      " |  \n",
      " |  ----------------------------------------------------------------------\n",
      " |  Data descriptors defined here:\n",
      " |  \n",
      " |  __dict__\n",
      " |      dictionary for instance variables (if defined)\n",
      " |  \n",
      " |  __weakref__\n",
      " |      list of weak references to the object (if defined)\n",
      " |  \n",
      " |  backgroundfile_find\n",
      " |      backgroundfile resolved according to datapath.\n",
      " |  \n",
      " |  datapath\n",
      " |  \n",
      " |  force\n",
      " |  \n",
      " |  formfactorfile_find\n",
      " |      formafactorfile resolved according to datapath.\n",
      " |  \n",
      " |  inputfiles_find\n",
      " |      inputfiles resolved according to datapath.\n",
      " |  \n",
      " |  outputtypes\n",
      " |  \n",
      " |  plot\n",
      " |  \n",
      " |  verbose\n",
      " |  \n",
      " |  ----------------------------------------------------------------------\n",
      " |  Data and other attributes defined here:\n",
      " |  \n",
      " |  datapath_prefix = ['.']\n",
      "\n"
     ]
    }
   ],
   "source": [
    "help(PDFConfig)"
   ]
  },
  {
   "cell_type": "code",
   "execution_count": 5,
   "id": "c05be173",
   "metadata": {},
   "outputs": [
    {
     "name": "stdout",
     "output_type": "stream",
     "text": [
      "Help on class PDFGetter in module diffpy.pdfgetx.pdfgetter:\n",
      "\n",
      "class PDFGetter(builtins.object)\n",
      " |  PDFGetter(config=None)\n",
      " |  \n",
      " |  Functor for converting input intensity data to a PDF.\n",
      " |  \n",
      " |  Instance attributes:\n",
      " |  \n",
      " |  config           -- instance of PDFConfig or a dictionary\n",
      " |                      that contains all configuration variables\n",
      " |  inputfile        -- path to the input file used for (x, y) array.\n",
      " |                      Empty when (x, y) inputs were passed as arrays.\n",
      " |  transformations  -- list of Transform class instances.\n",
      " |  results          -- list of (x, y) tuples of input arrays and\n",
      " |                      intermediate results.\n",
      " |  \n",
      " |  Properties:\n",
      " |  \n",
      " |  iq, fq, sq, gr   -- retrieves the (x, y) tuple from the transformation\n",
      " |                      associated with the iq, fq, sq or gr outputtype\n",
      " |  \n",
      " |  Methods defined here:\n",
      " |  \n",
      " |  __call__(self, x=None, y=None, filename='', **kwargs)\n",
      " |      Process (x, y) to output arrays (xout, yout) - usually (r, g).\n",
      " |      The actual output arrays depend on the active transformations chain.\n",
      " |      Recalculate the last inputs when called without arguments.\n",
      " |      \n",
      " |      filename -- file to be used to load (x, y) arrays when not specified\n",
      " |      kwargs   -- optional keyword arguments that are applied to the config\n",
      " |                  object, for example (qmax=20).\n",
      " |      \n",
      " |      Return a tuple of numpy arrays.\n",
      " |  \n",
      " |  __copy__(self)\n",
      " |  \n",
      " |  __init__(self, config=None)\n",
      " |      Create a default PDFGetter instance\n",
      " |      \n",
      " |      config   -- specific instance of PDFConfig.  When None construct\n",
      " |                  a default PDFConfig object.\n",
      " |  \n",
      " |  addTransformation(self, trns, index=None)\n",
      " |      Add operation to a specified position in transformations sequence.\n",
      " |      \n",
      " |      trns    -- instance of Transformation\n",
      " |      index   -- index for inserting trns into the transformations list.\n",
      " |                 By default add as a last operation.\n",
      " |      \n",
      " |      No return value.\n",
      " |  \n",
      " |  clearTransformations(self)\n",
      " |      Remove all transformations from the internal list.\n",
      " |  \n",
      " |  configure(self, config)\n",
      " |      Prepare transformations chain for the PDF calculation.\n",
      " |      The actual chain of transformations depends on config.mode.\n",
      " |      \n",
      " |      config   -- instance of PDFConfig or a dictionary with necessary\n",
      " |                  configuration variables\n",
      " |      \n",
      " |      No return value.\n",
      " |  \n",
      " |  copy(self)\n",
      " |      Return a copy of this PDFGetter with its own PDFConfig.\n",
      " |  \n",
      " |  describe(self)\n",
      " |      Print the current chain of transformations in a human readable form.\n",
      " |      \n",
      " |      No return value.\n",
      " |  \n",
      " |  getTransformation(self, trnsid)\n",
      " |      Return transformation instance at the specified identifier.\n",
      " |      \n",
      " |      trnsid   -- integer index or an outputtype string such as\n",
      " |                  'iq', 'sq', 'fq', 'gr'\n",
      " |      \n",
      " |      Return a transformation instance.\n",
      " |      Raise PDFConfigError when trnsid is an invalid outputtype.\n",
      " |  \n",
      " |  popTransformation(self, trnsid)\n",
      " |      Remove and return transformation at the specified identifier.\n",
      " |      \n",
      " |      trnsid   -- integer index or an outputtype string such as\n",
      " |                  'iq', 'sq', 'fq', 'gr'\n",
      " |      \n",
      " |      Return a Transformation instance.\n",
      " |      Raise PDFConfigError when trnsid is an invalid outputtype.\n",
      " |  \n",
      " |  switchTransformation(self, trnsold, trnsnew)\n",
      " |      Switched the specified transformation for a new one.\n",
      " |      \n",
      " |      trnsold  -- transformation to be replaced.  Can be an integer index,\n",
      " |                  a Transformation instance or a Transformation class type.\n",
      " |                  The second form replaces the first instance of trnsold.\n",
      " |      trnsnew  -- Transformation instance to be used instead of trnsold\n",
      " |      \n",
      " |      Return the replaced transformation or None when trnsold does not exist.\n",
      " |  \n",
      " |  writeOutput(self, filename, outputtype)\n",
      " |      Write specified results to a file.\n",
      " |      \n",
      " |      filename     -- output filename to be written or a file type object\n",
      " |      outputtype   -- string identifier of the output data\n",
      " |      \n",
      " |      No return value.\n",
      " |  \n",
      " |  ----------------------------------------------------------------------\n",
      " |  Data descriptors defined here:\n",
      " |  \n",
      " |  __dict__\n",
      " |      dictionary for instance variables (if defined)\n",
      " |  \n",
      " |  __weakref__\n",
      " |      list of weak references to the object (if defined)\n",
      " |  \n",
      " |  fq\n",
      " |      A tuple of (Q, F) arrays.\n",
      " |  \n",
      " |  gr\n",
      " |      A tuple of (r, G) arrays.\n",
      " |  \n",
      " |  iq\n",
      " |      A tuple of (Q, I) arrays.\n",
      " |  \n",
      " |  sq\n",
      " |      A tuple of (Q, S) arrays.\n",
      " |  \n",
      " |  t\n",
      " |      Read-only copy of the transformation list.  Useful for\n",
      " |      interactive access to transformations, e.g., pdfgetter.t[2].\n",
      " |  \n",
      " |  used_config_variables\n",
      " |      frozenset of variable names that are used at this configuration.\n",
      "\n"
     ]
    }
   ],
   "source": [
    "help(PDFGetter)"
   ]
  },
  {
   "cell_type": "code",
   "execution_count": 29,
   "id": "2f809789",
   "metadata": {},
   "outputs": [
    {
     "data": {
      "text/plain": [
       "(array([ 0.70143606,  0.70413389,  0.70683172, ..., 22.99361357,\n",
       "        22.9963114 , 22.99900923]),\n",
       " array([ 0.02604231,  0.02549715,  0.02417876, ..., -0.11758144,\n",
       "        -0.13630587, -0.15125691]))"
      ]
     },
     "execution_count": 29,
     "metadata": {},
     "output_type": "execute_result"
    }
   ],
   "source": [
    "config = PDFConfig(qmin = 0.7,qmax = 23,qmaxinst = 23.4, dataformat = 'twotheta', inputfiles = file, backgroundfile = bkgfile,\n",
    "                  composition = 'LaB6', rpoly = 1.5, rmax = 50, outputtypes = 'sq,fq,gr',bgscale = 1, wavelength = 0.270793)\n",
    "pdfcalc = PDFGetter(config = config)\n",
    "pdfcalc(filename = file)\n",
    "pdfcalc.fq"
   ]
  },
  {
   "cell_type": "code",
   "execution_count": 33,
   "id": "ce8f92f5",
   "metadata": {},
   "outputs": [
    {
     "data": {
      "text/plain": [
       "[<matplotlib.lines.Line2D at 0x21302aee888>]"
      ]
     },
     "execution_count": 33,
     "metadata": {},
     "output_type": "execute_result"
    },
    {
     "data": {
      "image/png": "[encoded data removed]",
      "text/plain": [
       "<Figure size 432x288 with 1 Axes>"
      ]
     },
     "metadata": {
      "needs_background": "light"
     },
     "output_type": "display_data"
    }
   ],
   "source": [
    "plt.plot(*pdfcalc.iq)"
   ]
  },
  {
   "cell_type": "code",
   "execution_count": 45,
   "id": "6b66f3cb",
   "metadata": {},
   "outputs": [
    {
     "data": {
      "text/plain": [
       "[<matplotlib.lines.Line2D at 0x213040681c8>]"
      ]
     },
     "execution_count": 45,
     "metadata": {},
     "output_type": "execute_result"
    },
    {
     "data": {
      "image/png": "[encoded data removed]",
      "text/plain": [
       "<Figure size 432x288 with 1 Axes>"
      ]
     },
     "metadata": {
      "needs_background": "light"
     },
     "output_type": "display_data"
    }
   ],
   "source": [
    "plt.plot(*pdfcalc.results[2])\n",
    "plt.plot(pdfcalc.results[2][0],pdfcalc.results[2][1]-pdfcalc.iq[1])"
   ]
  },
  {
   "cell_type": "code",
   "execution_count": 53,
   "id": "a1462f75",
   "metadata": {},
   "outputs": [],
   "source": [
    "qi = pdfcalc.iq[0]\n",
    "qs,sq = pdfcalc.sq[0], pdfcalc.sq[1]\n",
    "qf,fq = pdfcalc.fq[0], pdfcalc.fq[1]"
   ]
  },
  {
   "cell_type": "code",
   "execution_count": 58,
   "id": "e25eb6ca",
   "metadata": {},
   "outputs": [
    {
     "name": "stdout",
     "output_type": "stream",
     "text": [
      "[ 0.70143606  0.70413389  0.70683172 ... 23.39289256 23.39559039\n",
      " 23.39828822]\n",
      "[ 0.70143606  0.70413389  0.70683172 ... 22.99361357 22.9963114\n",
      " 22.99900923]\n",
      "[ 0.70143606  0.70413389  0.70683172 ... 22.99361357 22.9963114\n",
      " 22.99900923]\n"
     ]
    }
   ],
   "source": [
    "print(qi)\n",
    "print(qs)\n",
    "print(qf)"
   ]
  },
  {
   "cell_type": "code",
   "execution_count": 5,
   "id": "b7e366bc",
   "metadata": {},
   "outputs": [
    {
     "data": {
      "image/png": "[encoded data removed]",
      "text/plain": [
       "<Figure size 432x288 with 1 Axes>"
      ]
     },
     "metadata": {
      "needs_background": "light"
     },
     "output_type": "display_data"
    }
   ],
   "source": [
    "a = []\n",
    "fig,ax = plt.subplots()\n",
    "for n in range(5):\n",
    "    a.append(n)\n",
    "    ax.cla()\n",
    "    ax.plot(a,a)\n",
    "    plt.show(block=False)\n",
    "    plt.pause(1)"
   ]
  },
  {
   "cell_type": "code",
   "execution_count": null,
   "id": "efb591f8",
   "metadata": {},
   "outputs": [],
   "source": []
  }
 ],
 "metadata": {
  "kernelspec": {
   "display_name": "Python 3 (ipykernel)",
   "language": "python",
   "name": "python3"
  },
  "language_info": {
   "codemirror_mode": {
    "name": "ipython",
    "version": 3
   },
   "file_extension": ".py",
   "mimetype": "text/x-python",
   "name": "python",
   "nbconvert_exporter": "python",
   "pygments_lexer": "ipython3",
   "version": "3.7.13"
  }
 },
 "nbformat": 4,
 "nbformat_minor": 5
}
